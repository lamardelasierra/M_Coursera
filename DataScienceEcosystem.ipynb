{
 "cells": [
  {
   "cell_type": "markdown",
   "id": "83232622-694c-4fda-a83d-4a382dbe6c22",
   "metadata": {},
   "source": [
    "# Data Science Tools and Ecosystem "
   ]
  },
  {
   "cell_type": "markdown",
   "id": "4a334321-ba55-41d9-b981-5ed1fd9d53ae",
   "metadata": {},
   "source": [
    "In this notebook, Data Science Tools and Ecosystem are summarized."
   ]
  },
  {
   "cell_type": "markdown",
   "id": "2ded09cf-c0f9-4de5-8c72-f4d772dc7578",
   "metadata": {},
   "source": [
    "**Objectives**\n",
    "- List of popular languages for Data Science.\n",
    "- Commonly used libraries for Data Science.\n",
    "- Data Science Tools.\n",
    "- Examples evaluating arithmetic expressions in Python."
   ]
  },
  {
   "cell_type": "markdown",
   "id": "a88f5c57-e1f2-47b7-85d9-61e266bddb8e",
   "metadata": {},
   "source": [
    "Some of the popular languages that Data Scientists use are:\n",
    "1. Python\n",
    "2. R\n",
    "3. SQL\n",
    "4. Java"
   ]
  },
  {
   "cell_type": "markdown",
   "id": "932405dc-99ed-4980-9c31-4581ee126603",
   "metadata": {},
   "source": [
    "Some of the commonly used libraries used by Data Scientists include:\n",
    "1. Pandas.\n",
    "2. NumPy.\n",
    "3. Matplolib package.\n",
    "4. Keras."
   ]
  },
  {
   "cell_type": "markdown",
   "id": "f2966468-c743-4cb3-8bd8-d4b7022ed0ba",
   "metadata": {},
   "source": [
    "<div style=\"text-align: left;\">\n",
    "  <table style=\"margin-left: 0;\">\n",
    "    <tr>\n",
    "      <th>Data Science Tools</th>\n",
    "    </tr>\n",
    "    <tr>\n",
    "      <td>Jupyter Notebooks / Jupyter Lab</td>\n",
    "    </tr>\n",
    "    <tr>\n",
    "      <td>R Studio</td>\n",
    "    </tr>\n",
    "    <tr>\n",
    "      <td>Apache Zeppelin</td>\n",
    "    </tr>\n",
    "  </table>\n",
    "</div>"
   ]
  },
  {
   "cell_type": "markdown",
   "id": "a0ec8c38-429e-4d2a-9a44-e3a712b2a486",
   "metadata": {},
   "source": [
    "### Below are a few examples of evaluating arithmetic expressions in Python."
   ]
  },
  {
   "cell_type": "code",
   "execution_count": 91,
   "id": "aef27e66-9331-4232-8e42-b0de4c634a8c",
   "metadata": {},
   "outputs": [
    {
     "name": "stdout",
     "output_type": "stream",
     "text": [
      "17\n"
     ]
    }
   ],
   "source": [
    "a = 3\n",
    "b = 4\n",
    "c = 5\n",
    "print ((a*b)+c)"
   ]
  },
  {
   "cell_type": "code",
   "execution_count": 93,
   "id": "6513445a-0892-4724-83be-86e36bcf0191",
   "metadata": {},
   "outputs": [
    {
     "name": "stdout",
     "output_type": "stream",
     "text": [
      "3.3333333333333335\n"
     ]
    }
   ],
   "source": [
    "minutes = 200\n",
    "hours = 60\n",
    "print (minutes/hours)\n"
   ]
  },
  {
   "cell_type": "markdown",
   "id": "7ecc65e9-fff5-42d8-a218-691d3c07d476",
   "metadata": {},
   "source": [
    "## Author"
   ]
  },
  {
   "cell_type": "markdown",
   "id": "0ee51174-6d15-4d3d-81e4-46b362091adc",
   "metadata": {},
   "source": [
    "María S."
   ]
  },
  {
   "cell_type": "code",
   "execution_count": null,
   "id": "bbe4bac6-7d1d-467b-a1b4-3baf11a8a2d9",
   "metadata": {},
   "outputs": [],
   "source": []
  }
 ],
 "metadata": {
  "kernelspec": {
   "display_name": "Python 3 (ipykernel)",
   "language": "python",
   "name": "python3"
  },
  "language_info": {
   "codemirror_mode": {
    "name": "ipython",
    "version": 3
   },
   "file_extension": ".py",
   "mimetype": "text/x-python",
   "name": "python",
   "nbconvert_exporter": "python",
   "pygments_lexer": "ipython3",
   "version": "3.12.4"
  }
 },
 "nbformat": 4,
 "nbformat_minor": 5
}
